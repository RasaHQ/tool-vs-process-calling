{
 "cells": [
  {
   "cell_type": "code",
   "execution_count": 1,
   "id": "ad0599e9-7c94-46d5-b7c7-9dd0c19cbf39",
   "metadata": {},
   "outputs": [],
   "source": [
    "import os\n",
    "from flight_search import RealLLMTravelAgent"
   ]
  },
  {
   "cell_type": "code",
   "execution_count": 2,
   "id": "c46009e4-955e-470e-94d4-b706c147ee5d",
   "metadata": {},
   "outputs": [
    {
     "name": "stdout",
     "output_type": "stream",
     "text": [
      "You are a professional travel booking assistant. Help users book flights, hotels, and other travel services. You can also help with flight cancellations and refunds.\n",
      "\n",
      "FLIGHT BOOKING GUIDELINES: \n",
      "1. Always search for flights when users mention specific travel plans\n",
      "2. Always check all entry requirements (like visa, health) for international travel.\n",
      "3. Validate all passenger information including passports\n",
      "4. For elderly passengers, check special requirements\n",
      "5. Once all the information is given, ask for user confirmation and then go to next step\n",
      "6. Verify payment methods before processing bookings\n",
      "\n",
      "\n",
      "FLIGHT CANCELLATION PROCESS: \n",
      "1. Validate booking reference and passenger name for authentication\n",
      "2. Retrieve booking details to show flights in the booking.\n",
      "3. Always let the user confirm the booking to cancel.\n",
      "4. Get fare rules and calculate cancellation fee based on membership tier.\n",
      "7. Get user confirmation\n",
      "8. Offer points refund option with 5% penalty reduction\n",
      "9. Process refund and generate confirmation\n",
      "\n",
      "\n",
      "FLIGHT CHECKIN GUIDELINES: \n",
      "1. Ask the user for booking reference and their last name\n",
      "2. Display the booking information and ask the user for confirmation\n",
      "3. Ask for passport and nationality details\n",
      "4. Check all entry requirements (like visa, health) for international travel.\n",
      "5. Let users pick a seat or opt for an upgrade.\n",
      "6. Let users pay for any extras they have chosen.        \n",
      "\n",
      "\n",
      "When users provide travel details, use the available tools to:\n",
      "- Search for flights and pricing\n",
      "- Check visa and entry requirements  \n",
      "- Validate passenger documents\n",
      "- Search for accommodations if requested\n",
      "- Process payments securely\n",
      "- Handle cancellations and refunds\n",
      "\n",
      "Always use tools rather than guessing or providing outdated information.\n"
     ]
    }
   ],
   "source": [
    "agent = RealLLMTravelAgent()\n",
    "print(agent.get_system_prompt())"
   ]
  },
  {
   "cell_type": "code",
   "execution_count": 3,
   "id": "d45831ec-6080-4d07-96d7-4ccb7bc05003",
   "metadata": {},
   "outputs": [],
   "source": [
    "def interactive_mode():\n",
    "    \"\"\"Run in interactive mode for testing\"\"\"\n",
    "    if not os.getenv(\"OPENAI_API_KEY\"):\n",
    "        print(\"❌ Please set your OPENAI_API_KEY environment variable\")\n",
    "        return\n",
    "\n",
    "    \n",
    "    print(\"🤖 Real LLM Travel Agent - Interactive Mode\")\n",
    "    print(\"Type 'quit' to exit\\n\")\n",
    "\n",
    "    while True:\n",
    "        user_input = input(\"You: \").strip()\n",
    "        if user_input.lower() in ['quit', 'exit', 'bye']:\n",
    "            print(\"Goodbye! 👋\")\n",
    "            break\n",
    "\n",
    "        try:\n",
    "            agent.react_loop(user_input)\n",
    "        except Exception as e:\n",
    "            print(f\"❌ Error: {e}\")"
   ]
  },
  {
   "cell_type": "code",
   "execution_count": 4,
   "id": "b57119fd-6e6e-491c-b1fd-bba2fa597e9e",
   "metadata": {},
   "outputs": [
    {
     "name": "stdout",
     "output_type": "stream",
     "text": [
      "🤖 Real LLM Travel Agent - Interactive Mode\n",
      "Type 'quit' to exit\n",
      "\n"
     ]
    },
    {
     "name": "stdin",
     "output_type": "stream",
     "text": [
      "You:  cancel my flight booking\n"
     ]
    },
    {
     "name": "stdout",
     "output_type": "stream",
     "text": [
      "\n",
      "\u001b[1m💬 User: cancel my flight booking\u001b[0m\n",
      "=========================\n",
      "\n",
      "🤔 Iteration 1: LLM deciding what to do...\n",
      "💭 LLM decided to respond to user\n",
      "=========================\n",
      "\n",
      "\u001b[1m🤖 Agent: To assist you with canceling your flight booking, I'll need the following information:\n",
      "\n",
      "1. Your booking reference code.\n",
      "2. The last name of the passenger on the booking.\n",
      "\n",
      "Please provide these details so I can proceed with the cancellation process.\u001b[0m\n",
      "\n",
      " Time to respond: 2.41 seconds\n",
      "=========================\n"
     ]
    },
    {
     "name": "stdin",
     "output_type": "stream",
     "text": [
      "You:  CONF12345\n"
     ]
    },
    {
     "name": "stdout",
     "output_type": "stream",
     "text": [
      "\n",
      "\u001b[1m💬 User: CONF12345\u001b[0m\n",
      "=========================\n",
      "\n",
      "🤔 Iteration 1: LLM deciding what to do...\n",
      "💭 LLM decided to respond to user\n",
      "=========================\n",
      "\n",
      "\u001b[1m🤖 Agent: Please provide the last name of the passenger on the booking with reference code CONF12345 so I can proceed with the cancellation process.\u001b[0m\n",
      "\n",
      " Time to respond: 1.89 seconds\n",
      "=========================\n"
     ]
    },
    {
     "name": "stdin",
     "output_type": "stream",
     "text": [
      "You:  Smith\n"
     ]
    },
    {
     "name": "stdout",
     "output_type": "stream",
     "text": [
      "\n",
      "\u001b[1m💬 User: Smith\u001b[0m\n",
      "=========================\n",
      "\n",
      "🤔 Iteration 1: LLM deciding what to do...\n",
      "💭 LLM decided to call 2 tool(s)\n",
      "🔧 LLM called: validate_booking_reference({'reference_code': 'CONF12345'})\n",
      "🔍 Validating booking reference: CONF12345\n",
      "   Reference valid: True\n",
      "🔧 LLM called: validate_passenger_name({'booking_ref': 'CONF12345', 'last_name': 'Smith'})\n",
      "👤 Validating passenger name: Smith for booking CONF12345\n",
      "   Name validation: True\n",
      "\n",
      "🤔 Iteration 2: LLM deciding what to do...\n",
      "💭 LLM decided to call 1 tool(s)\n",
      "🔧 LLM called: get_booking_details({'booking_reference': 'CONF12345'})\n",
      "📋 Retrieving booking details for: CONF12345\n",
      "\n",
      "🤔 Iteration 3: LLM deciding what to do...\n",
      "💭 LLM decided to respond to user\n",
      "=========================\n",
      "\n",
      "\u001b[1m🤖 Agent: Here are the details of your booking:\n",
      "\n",
      "- **Flight:** AA101\n",
      "- **Route:** NYC to PAR\n",
      "- **Date & Time:** September 15, 2025, at 08:00\n",
      "- **Fare Class:** Economy\n",
      "- **Airline:** Delta\n",
      "- **Passenger:** John Smith\n",
      "- **Total Paid:** $650.00\n",
      "- **Payment Method:** Visa ending in 9012\n",
      "\n",
      "Would you like to proceed with the cancellation of this booking?\u001b[0m\n",
      "\n",
      " Time to respond: 6.76 seconds\n",
      "=========================\n"
     ]
    },
    {
     "name": "stdin",
     "output_type": "stream",
     "text": [
      "You:  yeah okay\n"
     ]
    },
    {
     "name": "stdout",
     "output_type": "stream",
     "text": [
      "\n",
      "\u001b[1m💬 User: yeah okay\u001b[0m\n",
      "=========================\n",
      "\n",
      "🤔 Iteration 1: LLM deciding what to do...\n",
      "💭 LLM decided to call 1 tool(s)\n",
      "🔧 LLM called: get_fare_rules({'airline': 'Delta', 'fare_class': 'Economy'})\n",
      "📜 Getting fare rules: Delta Economy\n",
      "\n",
      "🤔 Iteration 2: LLM deciding what to do...\n",
      "💭 LLM decided to call 1 tool(s)\n",
      "🔧 LLM called: calculate_cancellation_fee({'booking_ref': 'CONF12345', 'cancellation_date': '2023-10-17'})\n",
      "💰 Calculating cancellation fee for CONF12345 on 2023-10-17\n",
      "   Cancellation calculation: {'original_amount': 650.0, 'cancellation_fee': 200, 'refund_amount': 450.0, 'days_before_travel': 699}\n",
      "\n",
      "🤔 Iteration 3: LLM deciding what to do...\n",
      "💭 LLM decided to respond to user\n",
      "=========================\n",
      "\n",
      "\u001b[1m🤖 Agent: The cancellation fee for your booking is $200. The refund amount will be $450.00. \n",
      "\n",
      "Would you like to receive the refund to your original payment method, or would you prefer a refund in points with a 5% penalty reduction? Please confirm your choice so I can proceed.\u001b[0m\n",
      "\n",
      " Time to respond: 5.76 seconds\n",
      "=========================\n"
     ]
    },
    {
     "name": "stdin",
     "output_type": "stream",
     "text": [
      "You:  quit\n"
     ]
    },
    {
     "name": "stdout",
     "output_type": "stream",
     "text": [
      "Goodbye! 👋\n"
     ]
    }
   ],
   "source": [
    "interactive_mode()"
   ]
  },
  {
   "cell_type": "markdown",
   "id": "e95e009a-f2c5-423e-984c-d42df45705a5",
   "metadata": {},
   "source": [
    "## What happened here?\n",
    "\n",
    "### The good\n",
    "1. The agent showed the booking details and waited for the user to confirm before going ahead with cancellation calculation\n",
    "\n",
    "### The bad\n",
    "1. The agent did not follow the instructions to always check the user's membership tier and account for it in the cancellation calculation.\n",
    "2. The **maximum latency per turn can reach upto ~5 seconds** when the agent needs to figure out the sequence of tool calls on the fly, primarily because LLM calls are being chained to figure out the logic."
   ]
  },
  {
   "cell_type": "markdown",
   "id": "20aa473a-20d6-4f4c-9b39-135bdd0c0061",
   "metadata": {},
   "source": [
    "## Let's try updating the prompt\n",
    "\n",
    "We'll add a statement to firm up the instructions to **not skip on checking the membership tier**."
   ]
  },
  {
   "cell_type": "code",
   "execution_count": 5,
   "id": "ab13295d-e908-41f5-9b96-84adf48251ac",
   "metadata": {},
   "outputs": [],
   "source": [
    "cancellation_guidelines = \"\"\"\n",
    "1. Validate booking reference and passenger name for authentication\n",
    "2. Retrieve booking details to show flights in the booking.\n",
    "3. Always let the user confirm the booking to cancel.\n",
    "4. Get fare rules and calculate cancellation fee based on membership tier. Don't skip this!\n",
    "7. Get user confirmation\n",
    "8. Offer points refund option with 5% penalty reduction\n",
    "9. Process refund and generate confirmation\n",
    "\"\"\""
   ]
  },
  {
   "cell_type": "code",
   "execution_count": 6,
   "id": "6b4e4f0b-d6f4-408e-98e6-de006a98fa08",
   "metadata": {},
   "outputs": [],
   "source": [
    "del agent\n",
    "agent = RealLLMTravelAgent()\n",
    "agent.update_cancellation_guidelines(cancellation_guidelines)"
   ]
  },
  {
   "cell_type": "code",
   "execution_count": 7,
   "id": "8be60507-6ad8-495f-a43b-e8838f6f500b",
   "metadata": {},
   "outputs": [
    {
     "name": "stdout",
     "output_type": "stream",
     "text": [
      "You are a professional travel booking assistant. Help users book flights, hotels, and other travel services. You can also help with flight cancellations and refunds.\n",
      "\n",
      "FLIGHT BOOKING GUIDELINES: \n",
      "1. Always search for flights when users mention specific travel plans\n",
      "2. Always check all entry requirements (like visa, health) for international travel.\n",
      "3. Validate all passenger information including passports\n",
      "4. For elderly passengers, check special requirements\n",
      "5. Once all the information is given, ask for user confirmation and then go to next step\n",
      "6. Verify payment methods before processing bookings\n",
      "\n",
      "\n",
      "FLIGHT CANCELLATION PROCESS: \n",
      "1. Validate booking reference and passenger name for authentication\n",
      "2. Retrieve booking details to show flights in the booking.\n",
      "3. Always let the user confirm the booking to cancel.\n",
      "4. Get fare rules and calculate cancellation fee based on membership tier. Don't skip this!\n",
      "7. Get user confirmation\n",
      "8. Offer points refund option with 5% penalty reduction\n",
      "9. Process refund and generate confirmation\n",
      "\n",
      "\n",
      "FLIGHT CHECKIN GUIDELINES: \n",
      "1. Ask the user for booking reference and their last name\n",
      "2. Display the booking information and ask the user for confirmation\n",
      "3. Ask for passport and nationality details\n",
      "4. Check all entry requirements (like visa, health) for international travel.\n",
      "5. Let users pick a seat or opt for an upgrade.\n",
      "6. Let users pay for any extras they have chosen.        \n",
      "\n",
      "\n",
      "When users provide travel details, use the available tools to:\n",
      "- Search for flights and pricing\n",
      "- Check visa and entry requirements  \n",
      "- Validate passenger documents\n",
      "- Search for accommodations if requested\n",
      "- Process payments securely\n",
      "- Handle cancellations and refunds\n",
      "\n",
      "Always use tools rather than guessing or providing outdated information.\n"
     ]
    }
   ],
   "source": [
    "print(agent.get_system_prompt())"
   ]
  },
  {
   "cell_type": "markdown",
   "id": "cdf5b34c-e005-4d59-877e-426876e1ed43",
   "metadata": {},
   "source": [
    "## Let's try again"
   ]
  },
  {
   "cell_type": "code",
   "execution_count": 8,
   "id": "3d03dc15-8224-422a-9965-44b5c1454cb8",
   "metadata": {},
   "outputs": [
    {
     "name": "stdout",
     "output_type": "stream",
     "text": [
      "🤖 Real LLM Travel Agent - Interactive Mode\n",
      "Type 'quit' to exit\n",
      "\n"
     ]
    },
    {
     "name": "stdin",
     "output_type": "stream",
     "text": [
      "You:  cancel my booking please\n"
     ]
    },
    {
     "name": "stdout",
     "output_type": "stream",
     "text": [
      "\n",
      "\u001b[1m💬 User: cancel my booking please\u001b[0m\n",
      "=========================\n",
      "\n",
      "🤔 Iteration 1: LLM deciding what to do...\n",
      "💭 LLM decided to respond to user\n",
      "=========================\n",
      "\n",
      "\u001b[1m🤖 Agent: To assist you with canceling your booking, I'll need the following information:\n",
      "\n",
      "1. Your booking reference code.\n",
      "2. The last name of the passenger on the booking.\n",
      "\n",
      "Please provide these details so I can proceed with the cancellation process.\u001b[0m\n",
      "\n",
      " Time to respond: 1.45 seconds\n",
      "=========================\n"
     ]
    },
    {
     "name": "stdin",
     "output_type": "stream",
     "text": [
      "You:  CONF12345\n"
     ]
    },
    {
     "name": "stdout",
     "output_type": "stream",
     "text": [
      "\n",
      "\u001b[1m💬 User: CONF12345\u001b[0m\n",
      "=========================\n",
      "\n",
      "🤔 Iteration 1: LLM deciding what to do...\n",
      "💭 LLM decided to respond to user\n",
      "=========================\n",
      "\n",
      "\u001b[1m🤖 Agent: Please provide the last name of the passenger on the booking with reference code CONF12345 so I can proceed with the cancellation process.\u001b[0m\n",
      "\n",
      " Time to respond: 1.22 seconds\n",
      "=========================\n"
     ]
    },
    {
     "name": "stdin",
     "output_type": "stream",
     "text": [
      "You:  Smith\n"
     ]
    },
    {
     "name": "stdout",
     "output_type": "stream",
     "text": [
      "\n",
      "\u001b[1m💬 User: Smith\u001b[0m\n",
      "=========================\n",
      "\n",
      "🤔 Iteration 1: LLM deciding what to do...\n",
      "💭 LLM decided to call 2 tool(s)\n",
      "🔧 LLM called: validate_booking_reference({'reference_code': 'CONF12345'})\n",
      "🔍 Validating booking reference: CONF12345\n",
      "   Reference valid: True\n",
      "🔧 LLM called: validate_passenger_name({'booking_ref': 'CONF12345', 'last_name': 'Smith'})\n",
      "👤 Validating passenger name: Smith for booking CONF12345\n",
      "   Name validation: True\n",
      "\n",
      "🤔 Iteration 2: LLM deciding what to do...\n",
      "💭 LLM decided to call 1 tool(s)\n",
      "🔧 LLM called: get_booking_details({'booking_reference': 'CONF12345'})\n",
      "📋 Retrieving booking details for: CONF12345\n",
      "\n",
      "🤔 Iteration 3: LLM deciding what to do...\n",
      "💭 LLM decided to respond to user\n",
      "=========================\n",
      "\n",
      "\u001b[1m🤖 Agent: Here are the details of your booking:\n",
      "\n",
      "- **Flight:** AA101 from NYC to PAR\n",
      "- **Date and Time:** September 15, 2025, at 08:00\n",
      "- **Passenger:** John Smith\n",
      "- **Fare Class:** Economy\n",
      "- **Airline:** Delta\n",
      "- **Total Paid:** $650.00\n",
      "- **Payment Method:** Visa ending in 9012\n",
      "\n",
      "Please confirm if you would like to proceed with the cancellation of this booking.\u001b[0m\n",
      "\n",
      " Time to respond: 3.96 seconds\n",
      "=========================\n"
     ]
    },
    {
     "name": "stdin",
     "output_type": "stream",
     "text": [
      "You:  yep that one.. do it fast\n"
     ]
    },
    {
     "name": "stdout",
     "output_type": "stream",
     "text": [
      "\n",
      "\u001b[1m💬 User: yep that one.. do it fast\u001b[0m\n",
      "=========================\n",
      "\n",
      "🤔 Iteration 1: LLM deciding what to do...\n",
      "💭 LLM decided to call 1 tool(s)\n",
      "🔧 LLM called: get_fare_rules({'airline': 'Delta', 'fare_class': 'Economy'})\n",
      "📜 Getting fare rules: Delta Economy\n",
      "\n",
      "🤔 Iteration 2: LLM deciding what to do...\n",
      "💭 LLM decided to call 1 tool(s)\n",
      "🔧 LLM called: calculate_cancellation_fee({'booking_ref': 'CONF12345', 'cancellation_date': '2023-11-01'})\n",
      "💰 Calculating cancellation fee for CONF12345 on 2023-11-01\n",
      "   Cancellation calculation: {'original_amount': 650.0, 'cancellation_fee': 200, 'refund_amount': 450.0, 'days_before_travel': 684}\n",
      "\n",
      "🤔 Iteration 3: LLM deciding what to do...\n",
      "💭 LLM decided to respond to user\n",
      "=========================\n",
      "\n",
      "\u001b[1m🤖 Agent: The cancellation fee for your booking is $200. The refund amount will be $450.00.\n",
      "\n",
      "Would you like to proceed with the refund to the original payment method, or would you prefer a refund in points with a 5% penalty reduction? Please confirm your choice.\u001b[0m\n",
      "\n",
      " Time to respond: 4.36 seconds\n",
      "=========================\n"
     ]
    },
    {
     "name": "stdin",
     "output_type": "stream",
     "text": [
      "You:  quit\n"
     ]
    },
    {
     "name": "stdout",
     "output_type": "stream",
     "text": [
      "Goodbye! 👋\n"
     ]
    }
   ],
   "source": [
    "interactive_mode()"
   ]
  },
  {
   "cell_type": "markdown",
   "id": "8f089f28-305e-4c68-8eab-7287a845973e",
   "metadata": {},
   "source": [
    "## Did that work?\n",
    "\n",
    "No! The LLM was still unable to follow the instructions.\n",
    "\n",
    "### Let's try even stricter guidelines"
   ]
  },
  {
   "cell_type": "code",
   "execution_count": 14,
   "id": "b933b91e-2b0a-49a6-96c0-276425aae579",
   "metadata": {},
   "outputs": [],
   "source": [
    "cancellation_guidelines = \"\"\"\n",
    "1. Validate booking reference and passenger name for authentication\n",
    "2. Retrieve booking details to show flights in the booking.\n",
    "3. Always let the user confirm the booking to cancel.\n",
    "4. Get fare rules and calculate cancellation fee based on membership tier. Don't skip this! Always check the membership tier with the exact retrieved member ID during cancellation charge calculation.\n",
    "7. Get user confirmation\n",
    "8. Offer points refund option with 5% penalty reduction\n",
    "9. Process refund and generate confirmation\n",
    "\"\"\""
   ]
  },
  {
   "cell_type": "code",
   "execution_count": 15,
   "id": "2256d059-7a77-4f6d-8643-fa770d9f8d39",
   "metadata": {},
   "outputs": [],
   "source": [
    "del agent\n",
    "agent = RealLLMTravelAgent()\n",
    "agent.update_cancellation_guidelines(cancellation_guidelines)"
   ]
  },
  {
   "cell_type": "code",
   "execution_count": 16,
   "id": "0e7f5c9e-c203-45c4-a987-101efa1d9ef2",
   "metadata": {},
   "outputs": [
    {
     "name": "stdout",
     "output_type": "stream",
     "text": [
      "You are a professional travel booking assistant. Help users book flights, hotels, and other travel services. You can also help with flight cancellations and refunds.\n",
      "\n",
      "FLIGHT BOOKING GUIDELINES: \n",
      "1. Always search for flights when users mention specific travel plans\n",
      "2. Always check all entry requirements (like visa, health) for international travel.\n",
      "3. Validate all passenger information including passports\n",
      "4. For elderly passengers, check special requirements\n",
      "5. Once all the information is given, ask for user confirmation and then go to next step\n",
      "6. Verify payment methods before processing bookings\n",
      "\n",
      "\n",
      "FLIGHT CANCELLATION PROCESS: \n",
      "1. Validate booking reference and passenger name for authentication\n",
      "2. Retrieve booking details to show flights in the booking.\n",
      "3. Always let the user confirm the booking to cancel.\n",
      "4. Get fare rules and calculate cancellation fee based on membership tier. Don't skip this! Always check the membership tier with the exact retrieved member ID during cancellation charge calculation.\n",
      "7. Get user confirmation\n",
      "8. Offer points refund option with 5% penalty reduction\n",
      "9. Process refund and generate confirmation\n",
      "\n",
      "\n",
      "FLIGHT CHECKIN GUIDELINES: \n",
      "1. Ask the user for booking reference and their last name\n",
      "2. Display the booking information and ask the user for confirmation\n",
      "3. Ask for passport and nationality details\n",
      "4. Check all entry requirements (like visa, health) for international travel.\n",
      "5. Let users pick a seat or opt for an upgrade.\n",
      "6. Let users pay for any extras they have chosen.        \n",
      "\n",
      "\n",
      "When users provide travel details, use the available tools to:\n",
      "- Search for flights and pricing\n",
      "- Check visa and entry requirements  \n",
      "- Validate passenger documents\n",
      "- Search for accommodations if requested\n",
      "- Process payments securely\n",
      "- Handle cancellations and refunds\n",
      "\n",
      "Always use tools rather than guessing or providing outdated information.\n"
     ]
    }
   ],
   "source": [
    "print(agent.get_system_prompt())"
   ]
  },
  {
   "cell_type": "code",
   "execution_count": 17,
   "id": "530d93de-55ee-435a-8af1-099c37723700",
   "metadata": {},
   "outputs": [
    {
     "name": "stdout",
     "output_type": "stream",
     "text": [
      "🤖 Real LLM Travel Agent - Interactive Mode\n",
      "Type 'quit' to exit\n",
      "\n"
     ]
    },
    {
     "name": "stdin",
     "output_type": "stream",
     "text": [
      "You:  cancel my booking\n"
     ]
    },
    {
     "name": "stdout",
     "output_type": "stream",
     "text": [
      "\n",
      "\u001b[1m💬 User: cancel my booking\u001b[0m\n",
      "=========================\n",
      "\n",
      "🤔 Iteration 1: LLM deciding what to do...\n",
      "💭 LLM decided to respond to user\n",
      "=========================\n",
      "\n",
      "\u001b[1m🤖 Agent: To assist you with canceling your booking, I'll need the following information:\n",
      "\n",
      "1. Your booking reference code.\n",
      "2. The last name of the passenger on the booking.\n",
      "\n",
      "Please provide these details so I can proceed with the cancellation process.\u001b[0m\n",
      "\n",
      " Time to respond: 1.36 seconds\n",
      "=========================\n"
     ]
    },
    {
     "name": "stdin",
     "output_type": "stream",
     "text": [
      "You:  CONF12345\n"
     ]
    },
    {
     "name": "stdout",
     "output_type": "stream",
     "text": [
      "\n",
      "\u001b[1m💬 User: CONF12345\u001b[0m\n",
      "=========================\n",
      "\n",
      "🤔 Iteration 1: LLM deciding what to do...\n",
      "💭 LLM decided to respond to user\n",
      "=========================\n",
      "\n",
      "\u001b[1m🤖 Agent: Please provide the last name of the passenger on the booking with reference code CONF12345 so I can proceed with the cancellation process.\u001b[0m\n",
      "\n",
      " Time to respond: 1.41 seconds\n",
      "=========================\n"
     ]
    },
    {
     "name": "stdin",
     "output_type": "stream",
     "text": [
      "You:  Smith\n"
     ]
    },
    {
     "name": "stdout",
     "output_type": "stream",
     "text": [
      "\n",
      "\u001b[1m💬 User: Smith\u001b[0m\n",
      "=========================\n",
      "\n",
      "🤔 Iteration 1: LLM deciding what to do...\n",
      "💭 LLM decided to call 2 tool(s)\n",
      "🔧 LLM called: validate_booking_reference({'reference_code': 'CONF12345'})\n",
      "🔍 Validating booking reference: CONF12345\n",
      "   Reference valid: True\n",
      "🔧 LLM called: validate_passenger_name({'booking_ref': 'CONF12345', 'last_name': 'Smith'})\n",
      "👤 Validating passenger name: Smith for booking CONF12345\n",
      "   Name validation: True\n",
      "\n",
      "🤔 Iteration 2: LLM deciding what to do...\n",
      "💭 LLM decided to call 1 tool(s)\n",
      "🔧 LLM called: get_booking_details({'booking_reference': 'CONF12345'})\n",
      "📋 Retrieving booking details for: CONF12345\n",
      "\n",
      "🤔 Iteration 3: LLM deciding what to do...\n",
      "💭 LLM decided to respond to user\n",
      "=========================\n",
      "\n",
      "\u001b[1m🤖 Agent: Here are the details of your booking:\n",
      "\n",
      "- **Flight:** AA101 from NYC to PAR\n",
      "- **Date and Time:** September 15, 2025, at 08:00\n",
      "- **Passenger:** John Smith\n",
      "- **Fare Class:** Economy\n",
      "- **Airline:** Delta\n",
      "- **Total Paid:** $650.00\n",
      "- **Payment Method:** Visa ending in 9012\n",
      "\n",
      "Please confirm if you would like to proceed with the cancellation of this booking.\u001b[0m\n",
      "\n",
      " Time to respond: 4.62 seconds\n",
      "=========================\n"
     ]
    },
    {
     "name": "stdin",
     "output_type": "stream",
     "text": [
      "You:  yeah that one!\n"
     ]
    },
    {
     "name": "stdout",
     "output_type": "stream",
     "text": [
      "\n",
      "\u001b[1m💬 User: yeah that one!\u001b[0m\n",
      "=========================\n",
      "\n",
      "🤔 Iteration 1: LLM deciding what to do...\n",
      "💭 LLM decided to call 1 tool(s)\n",
      "🔧 LLM called: check_loyalty_status({'member_id': '123456'})\n",
      "🏆 Checking loyalty status for member: 123456\n",
      "   Loyalty status: {'member_id': '123456', 'status': 'Gold'}\n",
      "\n",
      "🤔 Iteration 2: LLM deciding what to do...\n",
      "💭 LLM decided to call 1 tool(s)\n",
      "🔧 LLM called: get_fare_rules({'airline': 'Delta', 'fare_class': 'Economy'})\n",
      "📜 Getting fare rules: Delta Economy\n",
      "\n",
      "🤔 Iteration 3: LLM deciding what to do...\n",
      "💭 LLM decided to call 1 tool(s)\n",
      "🔧 LLM called: calculate_cancellation_fee({'booking_ref': 'CONF12345', 'cancellation_date': '2023-10-10'})\n",
      "💰 Calculating cancellation fee for CONF12345 on 2023-10-10\n",
      "   Cancellation calculation: {'original_amount': 650.0, 'cancellation_fee': 200, 'refund_amount': 450.0, 'days_before_travel': 706}\n",
      "\n",
      "🤔 Iteration 4: LLM deciding what to do...\n",
      "💭 LLM decided to call 1 tool(s)\n",
      "🔧 LLM called: apply_loyalty_discount({'loyalty_status': 'Gold', 'original_booking_amount': 650.0, 'cancellation_fee': 200})\n",
      "\n",
      "🤔 Iteration 5: LLM deciding what to do...\n",
      "💭 LLM decided to respond to user\n",
      "=========================\n",
      "\n",
      "\u001b[1m🤖 Agent: The cancellation fee for your booking is $200. As a Gold member, you are eligible for a loyalty discount, and the refund amount will be $450.00.\n",
      "\n",
      "Would you like to receive the refund to your original payment method, or would you prefer a refund in points with a 5% penalty reduction? Please confirm how you would like to proceed.\u001b[0m\n",
      "\n",
      " Time to respond: 8.02 seconds\n",
      "=========================\n"
     ]
    },
    {
     "name": "stdin",
     "output_type": "stream",
     "text": [
      "You:  quit\n"
     ]
    },
    {
     "name": "stdout",
     "output_type": "stream",
     "text": [
      "Goodbye! 👋\n"
     ]
    }
   ],
   "source": [
    "interactive_mode()"
   ]
  },
  {
   "cell_type": "markdown",
   "id": "fc6f0ad2-d13e-412a-aecc-d87ec0245b7f",
   "metadata": {},
   "source": [
    "## Did that work?\n",
    "\n",
    "Partially!! The LLM was able to call the correct tools but with **wrong arguments as the membership ID passed was wrong!**\n",
    "Also, the latency of the **last turn went upto 8 seconds**!!\n",
    "\n",
    "At this point it's an endless game of prompt and pray!"
   ]
  },
  {
   "cell_type": "code",
   "execution_count": null,
   "id": "b8acb098-8044-49ae-b33c-60cb1b21bebb",
   "metadata": {},
   "outputs": [],
   "source": []
  }
 ],
 "metadata": {
  "kernelspec": {
   "display_name": "Python 3 (ipykernel)",
   "language": "python",
   "name": "python3"
  },
  "language_info": {
   "codemirror_mode": {
    "name": "ipython",
    "version": 3
   },
   "file_extension": ".py",
   "mimetype": "text/x-python",
   "name": "python",
   "nbconvert_exporter": "python",
   "pygments_lexer": "ipython3",
   "version": "3.11.0"
  }
 },
 "nbformat": 4,
 "nbformat_minor": 5
}
